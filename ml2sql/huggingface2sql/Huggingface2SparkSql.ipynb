{
 "cells": [
  {
   "cell_type": "markdown",
   "id": "d38a12a0-d034-4eb6-9bc3-1a6931c7de4b",
   "metadata": {},
   "source": [
    "## Automatically pick up the last model training from MLFlow instead of hardcoding the run id"
   ]
  },
  {
   "cell_type": "code",
   "execution_count": 1,
   "id": "b459a539-6bce-4f6c-9401-aaa7a6c3bbbb",
   "metadata": {},
   "outputs": [
    {
     "name": "stdout",
     "output_type": "stream",
     "text": [
      "715ffc45700d474caa97257fa1787911\n"
     ]
    }
   ],
   "source": [
    "import mlflow\n",
    "\n",
    "last_parent_run = set()\n",
    "exp = mlflow.get_experiment_by_name(\"Default\")\n",
    "\n",
    "df = mlflow.search_runs([exp.experiment_id], order_by=[\"Created DESC\"])\n",
    "last_run_id = df.loc[0,'run_id']\n",
    "\n",
    "print(last_run_id)"
   ]
  },
  {
   "cell_type": "markdown",
   "id": "af0ac9cf-e25a-486a-9984-fe9a3106eb71",
   "metadata": {},
   "source": [
    "## Load back the model from MLFlow"
   ]
  },
  {
   "cell_type": "code",
   "execution_count": 2,
   "id": "e75f3dd7-1e80-4e37-8bfb-bded3fa588ce",
   "metadata": {},
   "outputs": [
    {
     "name": "stdout",
     "output_type": "stream",
     "text": [
      "23/01/04 06:37:29 WARN Utils: Your hostname, unreal resolves to a loopback address: 127.0.1.1; using 192.168.20.68 instead (on interface wlp1s0)\n",
      "23/01/04 06:37:29 WARN Utils: Set SPARK_LOCAL_IP if you need to bind to another address\n",
      "23/01/04 06:37:30 WARN NativeCodeLoader: Unable to load native-hadoop library for your platform... using builtin-java classes where applicable\n",
      "23/01/04 06:37:31 WARN Utils: Service 'SparkUI' could not bind on port 4040. Attempting port 4041.\n"
     ]
    }
   ],
   "source": [
    "from pyspark.sql import SparkSession\n",
    "\n",
    "spark = SparkSession.builder.getOrCreate()\n",
    "\n",
    "logged_model = f'runs:/{last_run_id}/model'\n",
    "# logged_model = 'runs:/502530abbc2a4ae3b043462eaa4b8828/model'\n",
    "\n",
    "# Load model as a Spark UDF. Override result_type if the model does not return double values.\n",
    "loaded_model = mlflow.pyfunc.spark_udf(spark, model_uri=logged_model, result_type='string')"
   ]
  },
  {
   "cell_type": "markdown",
   "id": "bebc8e9b-487c-4960-b7a4-2f718c9287a8",
   "metadata": {},
   "source": [
    "## Create a Spark DataFrame with some rows of text"
   ]
  },
  {
   "cell_type": "code",
   "execution_count": 3,
   "id": "39cef703-80b5-4831-8494-8b5e1e1460a5",
   "metadata": {},
   "outputs": [
    {
     "name": "stdout",
     "output_type": "stream",
     "text": [
      "+-----+--------------------+---+---+\n",
      "|state|                text|cat| id|\n",
      "+-----+--------------------+---+---+\n",
      "|   ca|number of bananas...|  1| 10|\n",
      "|   wi|number of carrots...|  2| 20|\n",
      "+-----+--------------------+---+---+\n",
      "\n"
     ]
    },
    {
     "data": {
      "text/plain": [
       "DataFrame[state: string, text: string, cat: bigint, id: bigint]"
      ]
     },
     "metadata": {},
     "output_type": "display_data"
    }
   ],
   "source": [
    "from pyspark.sql.functions import struct, col\n",
    "\n",
    "df = spark.createDataFrame([\n",
    "    ['ca', 'number of bananas sold in december', 1, 10], \n",
    "    ['wi', 'number of carrots in 2022', 2, 20], \n",
    "], schema=['state', 'text', 'cat', 'id'])\n",
    "\n",
    "df.show()\n",
    "display(df)"
   ]
  },
  {
   "cell_type": "markdown",
   "id": "319e7d5a-4f10-4e09-88e3-16dbab2914e2",
   "metadata": {},
   "source": [
    "## Now apply the Model on the DataFrame"
   ]
  },
  {
   "cell_type": "code",
   "execution_count": 4,
   "id": "6e82ae2b-3d02-4a64-ae59-6d4b0f2679ca",
   "metadata": {},
   "outputs": [
    {
     "name": "stdout",
     "output_type": "stream",
     "text": [
      "+-----+--------------------+---+---+--------------------+\n",
      "|state|                text|cat| id|         predictions|\n",
      "+-----+--------------------+---+---+--------------------+\n",
      "|   ca|number of bananas...|  1| 10|SELECT Bananen FR...|\n",
      "|   wi|number of carrots...|  2| 20|SELECT COUNT Carr...|\n",
      "+-----+--------------------+---+---+--------------------+\n",
      "\n"
     ]
    }
   ],
   "source": [
    "df2 = df.withColumn('predictions', loaded_model(struct(*map(col, df.columns))))\n",
    "df2.show()"
   ]
  },
  {
   "cell_type": "markdown",
   "id": "c7cc9f6e-450c-4337-8f23-279e3640980e",
   "metadata": {},
   "source": [
    "## Now register the model as a Spark UDF"
   ]
  },
  {
   "cell_type": "code",
   "execution_count": 5,
   "id": "29e1067a-8109-48c1-aea1-6f0f981b1aa3",
   "metadata": {},
   "outputs": [
    {
     "name": "stdout",
     "output_type": "stream",
     "text": [
      "+-------------------+\n",
      "|           function|\n",
      "+-------------------+\n",
      "|predict_text_to_sql|\n",
      "+-------------------+\n",
      "\n"
     ]
    }
   ],
   "source": [
    "spark.udf.register(\"predict_text_to_sql\", loaded_model)\n",
    "\n",
    "spark.sql(\"SHOW FUNCTIONS LIKE '*predict_text_to_sql*'\").show()"
   ]
  },
  {
   "cell_type": "markdown",
   "id": "e92d628e-1522-42cb-9d54-bda59a792b72",
   "metadata": {},
   "source": [
    "## Use the same DataFrame example data as a table"
   ]
  },
  {
   "cell_type": "code",
   "execution_count": 6,
   "id": "48a5d69e-4504-4070-8c04-8a2906421c98",
   "metadata": {},
   "outputs": [
    {
     "name": "stdout",
     "output_type": "stream",
     "text": [
      "+-----+--------------------+---+---+\n",
      "|state|                text|cat| id|\n",
      "+-----+--------------------+---+---+\n",
      "|   ca|number of bananas...|  1| 10|\n",
      "|   wi|number of carrots...|  2| 20|\n",
      "+-----+--------------------+---+---+\n",
      "\n"
     ]
    }
   ],
   "source": [
    "df.createOrReplaceTempView(\"veggies\")\n",
    "\n",
    "spark.sql(\"SELECT * FROM veggies\").show()"
   ]
  },
  {
   "cell_type": "markdown",
   "id": "53fd3df2-00bc-4ce5-befa-2ae54db0459a",
   "metadata": {},
   "source": [
    "## The crux, now we run the SQL query with the model function and get the predictions!"
   ]
  },
  {
   "cell_type": "code",
   "execution_count": 7,
   "id": "8140c7a8-1434-45ac-8487-4978e70fddcb",
   "metadata": {},
   "outputs": [
    {
     "name": "stdout",
     "output_type": "stream",
     "text": [
      "+--------------------+\n",
      "|          prediction|\n",
      "+--------------------+\n",
      "|SELECT Bananen FR...|\n",
      "|SELECT COUNT Carr...|\n",
      "+--------------------+\n",
      "\n"
     ]
    }
   ],
   "source": [
    "spark.sql(\"SELECT predict_text_to_sql(text) AS prediction FROM veggies\").show()"
   ]
  },
  {
   "cell_type": "markdown",
   "id": "9f865581-99d4-40c8-93b1-b8ea66e3d9ee",
   "metadata": {},
   "source": [
    "## Bonus: Run the model on a Panda DataFrames"
   ]
  },
  {
   "cell_type": "code",
   "execution_count": 8,
   "id": "bd2768b1-1c95-4716-b496-87d4ceac9147",
   "metadata": {},
   "outputs": [
    {
     "data": {
      "text/html": [
       "<div>\n",
       "<style scoped>\n",
       "    .dataframe tbody tr th:only-of-type {\n",
       "        vertical-align: middle;\n",
       "    }\n",
       "\n",
       "    .dataframe tbody tr th {\n",
       "        vertical-align: top;\n",
       "    }\n",
       "\n",
       "    .dataframe thead th {\n",
       "        text-align: right;\n",
       "    }\n",
       "</style>\n",
       "<table border=\"1\" class=\"dataframe\">\n",
       "  <thead>\n",
       "    <tr style=\"text-align: right;\">\n",
       "      <th></th>\n",
       "      <th>state</th>\n",
       "      <th>text</th>\n",
       "      <th>cat</th>\n",
       "      <th>id</th>\n",
       "    </tr>\n",
       "  </thead>\n",
       "  <tbody>\n",
       "    <tr>\n",
       "      <th>0</th>\n",
       "      <td>ca</td>\n",
       "      <td>number of bananas sold in december</td>\n",
       "      <td>1</td>\n",
       "      <td>10</td>\n",
       "    </tr>\n",
       "    <tr>\n",
       "      <th>1</th>\n",
       "      <td>wi</td>\n",
       "      <td>number of carrots in 2022</td>\n",
       "      <td>2</td>\n",
       "      <td>20</td>\n",
       "    </tr>\n",
       "  </tbody>\n",
       "</table>\n",
       "</div>"
      ],
      "text/plain": [
       "  state                                text  cat  id\n",
       "0    ca  number of bananas sold in december    1  10\n",
       "1    wi           number of carrots in 2022    2  20"
      ]
     },
     "metadata": {},
     "output_type": "display_data"
    },
    {
     "name": "stdout",
     "output_type": "stream",
     "text": [
      "                                                   0\n",
      "0  SELECT COUNT Carrots FROM table WHERE Year = 2...\n",
      "                                                   0\n",
      "0  SELECT COUNT Carrots FROM table WHERE Year = 2...\n"
     ]
    },
    {
     "data": {
      "text/plain": [
       "array([                                                 0\n",
       "       0  SELECT Bananen FROM table WHERE Date = December,\n",
       "                                                          0\n",
       "       0  SELECT COUNT Carrots FROM table WHERE Year = 2022], dtype=object)"
      ]
     },
     "metadata": {},
     "output_type": "display_data"
    }
   ],
   "source": [
    "import pandas as pd\n",
    "\n",
    "# Load model as a PyFuncModel.\n",
    "loaded_model = mlflow.pyfunc.load_model(logged_model)\n",
    "\n",
    "# From Spark DataFrame \n",
    "data = df.toPandas()\n",
    "display(data)\n",
    "print(loaded_model.predict(data[1:2]))\n",
    "\n",
    "# From Panda DataFrame\n",
    "d = { 'text': ['number of bananas sold in december', 'number of carrots in 2022']}\n",
    "pdf = pd.DataFrame(data=d)\n",
    "\n",
    "# Predict on a single Pandas DataFrame row\n",
    "print(loaded_model.predict(pdf[1:2]))\n",
    "\n",
    "# Predict on a Pandas DataFrame.\n",
    "pdf['sql'] = pdf.apply(loaded_model.predict, axis=1)\n",
    "display(pdf['sql'].values)"
   ]
  },
  {
   "cell_type": "code",
   "execution_count": 15,
   "id": "f76cedb9-e414-40cc-9ebb-fbd08c85ac33",
   "metadata": {},
   "outputs": [
   ],
   "source": [
    "%%sql\n",
    "sElect * FROM veggies"
   ]
  }
 ],
 "metadata": {
  "kernelspec": {
   "display_name": "Python 3 (ipykernel)",
   "language": "python",
   "name": "python3"
  },
  "language_info": {
   "codemirror_mode": {
    "name": "ipython",
    "version": 3
   },
   "file_extension": ".py",
   "mimetype": "text/x-python",
   "name": "python",
   "nbconvert_exporter": "python",
   "pygments_lexer": "ipython3",
   "version": "3.10.6 (main, Nov 14 2022, 16:10:14) [GCC 11.3.0]"
  },
  "vscode": {
   "interpreter": {
    "hash": "916dbcbb3f70747c44a77c7bcd40155683ae19c65e1c03b4aa3499c5328201f1"
   }
  }
 },
 "nbformat": 4,
 "nbformat_minor": 5
}
