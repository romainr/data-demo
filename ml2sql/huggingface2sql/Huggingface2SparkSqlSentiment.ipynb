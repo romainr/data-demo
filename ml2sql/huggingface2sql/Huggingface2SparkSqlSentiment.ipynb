{
 "cells": [
  {
   "cell_type": "markdown",
   "id": "d38a12a0-d034-4eb6-9bc3-1a6931c7de4b",
   "metadata": {},
   "source": [
    "## Automatically pick up the last model training from MLFlow instead of hardcoding the run id"
   ]
  },
  {
   "cell_type": "code",
   "execution_count": 1,
   "id": "b459a539-6bce-4f6c-9401-aaa7a6c3bbbb",
   "metadata": {},
   "outputs": [
    {
     "name": "stdout",
     "output_type": "stream",
     "text": [
      "0546a833afee4ee18369ff8554444861\n"
     ]
    }
   ],
   "source": [
    "import mlflow\n",
    "\n",
    "last_parent_run = set()\n",
    "exp = mlflow.get_experiment_by_name(\"Default\")\n",
    "\n",
    "df = mlflow.search_runs([exp.experiment_id], order_by=[\"Created DESC\"])\n",
    "last_run_id = df.loc[0,'run_id']\n",
    "\n",
    "print(last_run_id)"
   ]
  },
  {
   "cell_type": "markdown",
   "id": "af0ac9cf-e25a-486a-9984-fe9a3106eb71",
   "metadata": {},
   "source": [
    "## Load back the model from MLFlow"
   ]
  },
  {
   "cell_type": "code",
   "execution_count": 2,
   "id": "e75f3dd7-1e80-4e37-8bfb-bded3fa588ce",
   "metadata": {},
   "outputs": [
   ],
   "source": [
    "from pyspark.sql import SparkSession\n",
    "\n",
    "spark = SparkSession.builder.getOrCreate()\n",
    "\n",
    "logged_model = f'runs:/{last_run_id}/model'\n",
    "# logged_model = 'runs:/502530abbc2a4ae3b043462eaa4b8828/model'\n",
    "\n",
    "# Load model as a Spark UDF. Override result_type if the model does not return double values.\n",
    "loaded_model = mlflow.pyfunc.spark_udf(spark, model_uri=logged_model, result_type='string')"
   ]
  },
  {
   "cell_type": "markdown",
   "id": "bebc8e9b-487c-4960-b7a4-2f718c9287a8",
   "metadata": {},
   "source": [
    "## Create a Spark DataFrame with some rows of text"
   ]
  },
  {
   "cell_type": "code",
   "execution_count": 3,
   "id": "39cef703-80b5-4831-8494-8b5e1e1460a5",
   "metadata": {},
   "outputs": [
    {
     "name": "stdout",
     "output_type": "stream",
     "text": [
      "+-----+-------------------+---+---+\n",
      "|state|               text|cat| id|\n",
      "+-----+-------------------+---+---+\n",
      "|   ca|    I love Yosemite|  1| 10|\n",
      "|   wi|This was sandbagged|  2| 20|\n",
      "+-----+-------------------+---+---+\n",
      "\n"
     ]
    },
    {
     "data": {
      "text/plain": [
       "DataFrame[state: string, text: string, cat: bigint, id: bigint]"
      ]
     },
     "metadata": {},
     "output_type": "display_data"
    }
   ],
   "source": [
    "from pyspark.sql.functions import struct, col\n",
    "\n",
    "df = spark.createDataFrame([\n",
    "    ['ca', 'I love Yosemite', 1, 10], \n",
    "    ['wi', 'This was sandbagged', 2, 20], \n",
    "], schema=['state', 'text', 'cat', 'id'])\n",
    "\n",
    "df.show()\n",
    "display(df)"
   ]
  },
  {
   "cell_type": "markdown",
   "id": "319e7d5a-4f10-4e09-88e3-16dbab2914e2",
   "metadata": {},
   "source": [
    "## Now apply the Model on the DataFrame"
   ]
  },
  {
   "cell_type": "code",
   "execution_count": 4,
   "id": "6e82ae2b-3d02-4a64-ae59-6d4b0f2679ca",
   "metadata": {},
   "outputs": [
    {
     "name": "stdout",
     "output_type": "stream",
     "text": [
      "+-----+-------------------+---+---+-----------+\n",
      "|state|               text|cat| id|predictions|\n",
      "+-----+-------------------+---+---+-----------+\n",
      "|   ca|    I love Yosemite|  1| 10|   POSITIVE|\n",
      "|   wi|This was sandbagged|  2| 20|   NEGATIVE|\n",
      "+-----+-------------------+---+---+-----------+\n",
      "\n"
     ]
    }
   ],
   "source": [
    "df2 = df.withColumn('predictions', loaded_model(struct(*map(col, df.columns))))\n",
    "df2.show()"
   ]
  },
  {
   "cell_type": "markdown",
   "id": "c7cc9f6e-450c-4337-8f23-279e3640980e",
   "metadata": {},
   "source": [
    "## Now register the model as a Spark UDF"
   ]
  },
  {
   "cell_type": "code",
   "execution_count": 5,
   "id": "29e1067a-8109-48c1-aea1-6f0f981b1aa3",
   "metadata": {},
   "outputs": [
    {
     "name": "stdout",
     "output_type": "stream",
     "text": [
      "+-----------------+\n",
      "|         function|\n",
      "+-----------------+\n",
      "|predict_sentiment|\n",
      "+-----------------+\n",
      "\n"
     ]
    }
   ],
   "source": [
    "spark.udf.register(\"predict_sentiment\", loaded_model)\n",
    "\n",
    "spark.sql(\"SHOW FUNCTIONS LIKE '*predict_sentiment*'\").show()"
   ]
  },
  {
   "cell_type": "markdown",
   "id": "e92d628e-1522-42cb-9d54-bda59a792b72",
   "metadata": {},
   "source": [
    "## Use the same DataFrame example data as a table"
   ]
  },
  {
   "cell_type": "code",
   "execution_count": 6,
   "id": "48a5d69e-4504-4070-8c04-8a2906421c98",
   "metadata": {},
   "outputs": [
    {
     "name": "stdout",
     "output_type": "stream",
     "text": [
      "+-----+-------------------+---+---+\n",
      "|state|               text|cat| id|\n",
      "+-----+-------------------+---+---+\n",
      "|   ca|    I love Yosemite|  1| 10|\n",
      "|   wi|This was sandbagged|  2| 20|\n",
      "+-----+-------------------+---+---+\n",
      "\n"
     ]
    }
   ],
   "source": [
    "df.createOrReplaceTempView(\"reviews\")\n",
    "\n",
    "spark.sql(\"SELECT * FROM reviews\").show()"
   ]
  },
  {
   "cell_type": "markdown",
   "id": "53fd3df2-00bc-4ce5-befa-2ae54db0459a",
   "metadata": {},
   "source": [
    "## The crux, now we run the SQL query with the model function and get the predictions!"
   ]
  },
  {
   "cell_type": "code",
   "execution_count": 7,
   "id": "8140c7a8-1434-45ac-8487-4978e70fddcb",
   "metadata": {},
   "outputs": [
    {
     "name": "stdout",
     "output_type": "stream",
     "text": [
      "+-------------------+----------+\n",
      "|               text|prediction|\n",
      "+-------------------+----------+\n",
      "|    I love Yosemite|  POSITIVE|\n",
      "|This was sandbagged|  NEGATIVE|\n",
      "+-------------------+----------+\n",
      "\n"
     ]
    }
   ],
   "source": [
    "spark.sql(\"SELECT text, predict_sentiment(text) AS prediction FROM reviews\").show()"
   ]
  },
  {
   "cell_type": "markdown",
   "id": "9f865581-99d4-40c8-93b1-b8ea66e3d9ee",
   "metadata": {},
   "source": [
    "## Bonus: Run the model on a Panda DataFrames"
   ]
  },
  {
   "cell_type": "code",
   "execution_count": 8,
   "id": "bd2768b1-1c95-4716-b496-87d4ceac9147",
   "metadata": {},
   "outputs": [
    {
     "data": {
      "text/html": [
       "<div>\n",
       "<style scoped>\n",
       "    .dataframe tbody tr th:only-of-type {\n",
       "        vertical-align: middle;\n",
       "    }\n",
       "\n",
       "    .dataframe tbody tr th {\n",
       "        vertical-align: top;\n",
       "    }\n",
       "\n",
       "    .dataframe thead th {\n",
       "        text-align: right;\n",
       "    }\n",
       "</style>\n",
       "<table border=\"1\" class=\"dataframe\">\n",
       "  <thead>\n",
       "    <tr style=\"text-align: right;\">\n",
       "      <th></th>\n",
       "      <th>state</th>\n",
       "      <th>text</th>\n",
       "      <th>cat</th>\n",
       "      <th>id</th>\n",
       "    </tr>\n",
       "  </thead>\n",
       "  <tbody>\n",
       "    <tr>\n",
       "      <th>0</th>\n",
       "      <td>ca</td>\n",
       "      <td>I love Yosemite</td>\n",
       "      <td>1</td>\n",
       "      <td>10</td>\n",
       "    </tr>\n",
       "    <tr>\n",
       "      <th>1</th>\n",
       "      <td>wi</td>\n",
       "      <td>This was sandbagged</td>\n",
       "      <td>2</td>\n",
       "      <td>20</td>\n",
       "    </tr>\n",
       "  </tbody>\n",
       "</table>\n",
       "</div>"
      ],
      "text/plain": [
       "  state                 text  cat  id\n",
       "0    ca      I love Yosemite    1  10\n",
       "1    wi  This was sandbagged    2  20"
      ]
     },
     "metadata": {},
     "output_type": "display_data"
    },
    {
     "name": "stdout",
     "output_type": "stream",
     "text": [
      "Spark DataFrame:           0\n",
      "0  POSITIVE\n",
      "\n",
      "Pandas DataFrame row:           0\n",
      "0  NEGATIVE\n",
      "\n",
      "Pandas DataFrame:\n"
     ]
    },
    {
     "data": {
      "text/html": [
       "<div>\n",
       "<style scoped>\n",
       "    .dataframe tbody tr th:only-of-type {\n",
       "        vertical-align: middle;\n",
       "    }\n",
       "\n",
       "    .dataframe tbody tr th {\n",
       "        vertical-align: top;\n",
       "    }\n",
       "\n",
       "    .dataframe thead th {\n",
       "        text-align: right;\n",
       "    }\n",
       "</style>\n",
       "<table border=\"1\" class=\"dataframe\">\n",
       "  <thead>\n",
       "    <tr style=\"text-align: right;\">\n",
       "      <th></th>\n",
       "      <th>text</th>\n",
       "      <th>sentiment</th>\n",
       "    </tr>\n",
       "  </thead>\n",
       "  <tbody>\n",
       "    <tr>\n",
       "      <th>0</th>\n",
       "      <td>Hello, my dog is cute</td>\n",
       "      <td>0\n",
       "0  POSITIVE</td>\n",
       "    </tr>\n",
       "    <tr>\n",
       "      <th>1</th>\n",
       "      <td>I hated this broken idea</td>\n",
       "      <td>0\n",
       "0  NEGATIVE</td>\n",
       "    </tr>\n",
       "  </tbody>\n",
       "</table>\n",
       "</div>"
      ],
      "text/plain": [
       "                       text                sentiment\n",
       "0     Hello, my dog is cute            0\n",
       "0  POSITIVE\n",
       "1  I hated this broken idea            0\n",
       "0  NEGATIVE"
      ]
     },
     "metadata": {},
     "output_type": "display_data"
    }
   ],
   "source": [
    "import pandas as pd\n",
    "\n",
    "# Load model as a PyFuncModel.\n",
    "loaded_model = mlflow.pyfunc.load_model(logged_model)\n",
    "\n",
    "# From Spark DataFrame \n",
    "data = df.toPandas()\n",
    "display(data)\n",
    "\n",
    "print('Spark DataFrame: %s\\n' % loaded_model.predict(data))\n",
    "\n",
    "# From Panda DataFrame\n",
    "d = { 'text': ['Hello, my dog is cute', 'I hated this broken idea']}\n",
    "pdf = pd.DataFrame(data=d)\n",
    "\n",
    "# Predict on a single Pandas DataFrame row\n",
    "print('Pandas DataFrame row: %s\\n' % loaded_model.predict(pdf[1:2]))\n",
    "\n",
    "# Predict on a Pandas DataFrame.\n",
    "pdf['sentiment'] = pdf.apply(loaded_model.predict, axis=1)\n",
    "print('Pandas DataFrame:')\n",
    "display(pdf)"
   ]
  },
  {
   "cell_type": "markdown",
   "id": "35f5824e-7a57-451d-bb0b-bf2451d4a1f9",
   "metadata": {},
   "source": [
    "## Call via a SQL cell"
   ]
  },
  {
   "cell_type": "code",
   "execution_count": 9,
   "id": "8ffe0a3e-39de-41d3-bd9c-20384a266f97",
   "metadata": {},
   "outputs": [],
   "source": [
    "%load_ext sparksql_magic"
   ]
  },
  {
   "cell_type": "code",
   "execution_count": 10,
   "id": "e17dcdb9-7ee5-4dd1-86f5-c1a391448528",
   "metadata": {},
   "outputs": [
    {
     "data": {
      "text/html": [
       "<table><tr style=\"border-bottom: 1px solid\"><td style=\"font-weight: bold\">state</td><td style=\"font-weight: bold\">text</td><td style=\"font-weight: bold\">cat</td><td style=\"font-weight: bold\">id</td></tr><tr><td>ca</td><td>I love Yosemite</td><td>1</td><td>10</td></tr><tr><td>wi</td><td>This was sandbagged</td><td>2</td><td>20</td></tr></table>"
      ],
      "text/plain": [
       "<IPython.core.display.HTML object>"
      ]
     },
     "execution_count": 10,
     "metadata": {},
     "output_type": "execute_result"
    }
   ],
   "source": [
    "%%sparksql\n",
    "SELECT * FROM reviews"
   ]
  },
  {
   "cell_type": "code",
   "execution_count": 11,
   "id": "f76cedb9-e414-40cc-9ebb-fbd08c85ac33",
   "metadata": {},
   "outputs": [
    {
     "data": {
      "text/html": [
       "<table><tr style=\"border-bottom: 1px solid\"><td style=\"font-weight: bold\">text</td><td style=\"font-weight: bold\">prediction</td></tr><tr><td>I love Yosemite</td><td>POSITIVE</td></tr><tr><td>This was sandbagged</td><td>NEGATIVE</td></tr></table>"
      ],
      "text/plain": [
       "<IPython.core.display.HTML object>"
      ]
     },
     "execution_count": 11,
     "metadata": {},
     "output_type": "execute_result"
    }
   ],
   "source": [
    "%%sparksql\n",
    "SELECT text, predict_sentiment(text) AS prediction FROM reviews"
   ]
  },
  {
   "cell_type": "markdown",
   "id": "8905c8c7-b11d-4386-8e35-c942863b5dc7",
   "metadata": {},
   "source": [
    "## Bonus 2: just directly apply a Transformer pipeline"
   ]
  },
  {
   "cell_type": "code",
   "execution_count": 12,
   "id": "bf72c81f-3029-4066-9c98-fdfb660467ce",
   "metadata": {},
   "outputs": [
    {
     "data": {
      "text/plain": [
       "[{'label': 'POSITIVE', 'score': 0.9997429251670837}]"
      ]
     },
     "execution_count": 12,
     "metadata": {},
     "output_type": "execute_result"
    }
   ],
   "source": [
    "from transformers import pipeline\n",
    "\n",
    "classifier = pipeline(\"sentiment-analysis\")\n",
    "classifier(\"ML and SQL are cool!\")"
   ]
  },
  {
   "cell_type": "code",
   "execution_count": 13,
   "id": "dff42c18-f53c-4255-a353-f57078e7b31b",
   "metadata": {},
   "outputs": [
    {
     "data": {
      "text/plain": [
       "<function __main__.classify(s)>"
      ]
     },
     "execution_count": 13,
     "metadata": {},
     "output_type": "execute_result"
    }
   ],
   "source": [
    "def classify(s):\n",
    "  return classifier(s)[0]['label']\n",
    "\n",
    "spark.udf.register(\"classify\", classify)"
   ]
  },
  {
   "cell_type": "code",
   "execution_count": 14,
   "id": "13968ed2-fa4c-40a4-850d-14a51404e29f",
   "metadata": {},
   "outputs": [
    {
     "data": {
      "text/html": [
       "<table><tr style=\"border-bottom: 1px solid\"><td style=\"font-weight: bold\">text</td><td style=\"font-weight: bold\">prediction</td></tr><tr><td>I love Yosemite</td><td>POSITIVE</td></tr><tr><td>This was sandbagged</td><td>NEGATIVE</td></tr></table>"
      ],
      "text/plain": [
       "<IPython.core.display.HTML object>"
      ]
     },
     "execution_count": 14,
     "metadata": {},
     "output_type": "execute_result"
    }
   ],
   "source": [
    "%%sparksql\n",
    "SELECT text, classify(text) AS prediction FROM reviews"
   ]
  }
 ],
 "metadata": {
  "kernelspec": {
   "display_name": "Python 3 (ipykernel)",
   "language": "python",
   "name": "python3"
  },
  "language_info": {
   "codemirror_mode": {
    "name": "ipython",
    "version": 3
   },
   "file_extension": ".py",
   "mimetype": "text/x-python",
   "name": "python",
   "nbconvert_exporter": "python",
   "pygments_lexer": "ipython3",
   "version": "3.8.10"
  },
  "vscode": {
   "interpreter": {
    "hash": "916dbcbb3f70747c44a77c7bcd40155683ae19c65e1c03b4aa3499c5328201f1"
   }
  }
 },
 "nbformat": 4,
 "nbformat_minor": 5
}
